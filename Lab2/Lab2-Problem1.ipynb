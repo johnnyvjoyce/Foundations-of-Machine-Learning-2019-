{
 "cells": [
  {
   "cell_type": "code",
   "execution_count": 1,
   "metadata": {},
   "outputs": [],
   "source": [
    "import numpy as np\n",
    "import matplotlib.pyplot as plt\n",
    "from sklearn.linear_model import Perceptron\n",
    "from sklearn.metrics      import accuracy_score\n",
    "\n",
    "\n",
    "def PercentCorrect(Inputs, targets, weights):\n",
    "    N = len(targets)\n",
    "    nCorrect = 0\n",
    "    for n in range(N):\n",
    "        OneInput = Inputs[n,:]\n",
    "        if (targets[n] * np.dot(OneInput,weights) > 0):\n",
    "            nCorrect += 1\n",
    "    return 100 * nCorrect / N"
   ]
  },
  {
   "cell_type": "code",
   "execution_count": 2,
   "metadata": {},
   "outputs": [],
   "source": [
    "NumDataPerClass = 200\n",
    "\n",
    "# Two class problem, different means, equal covariance matrices\n",
    "m1, m2 = [[0,5]] , [[5,0]]\n",
    "C = [[2,1],[1,2]]\n",
    "\n",
    "A = np.linalg.cholesky(C)\n",
    "X1 = np.random.randn(NumDataPerClass,2)\n",
    "X2 = np.random.randn(NumDataPerClass,2)\n",
    "Y1 = X1@A + m1\n",
    "Y2 = X2@A + m2\n",
    "\n",
    "Y = np.concatenate((Y1,Y2))"
   ]
  },
  {
   "cell_type": "code",
   "execution_count": 3,
   "metadata": {},
   "outputs": [
    {
     "name": "stderr",
     "output_type": "stream",
     "text": [
      "C:\\ProgramData\\Anaconda3\\lib\\site-packages\\ipykernel_launcher.py:5: MatplotlibDeprecationWarning: Adding an axes using the same arguments as a previous axes currently reuses the earlier instance.  In a future version, a new instance will always be created and returned.  Meanwhile, this warning can be suppressed, and the future behavior ensured, by passing a unique label to each axes instance.\n",
      "  \"\"\"\n"
     ]
    },
    {
     "data": {
      "image/png": "[encoded data removed]",
      "text/plain": [
       "<Figure size 432x288 with 1 Axes>"
      ]
     },
     "metadata": {
      "needs_background": "light"
     },
     "output_type": "display_data"
    }
   ],
   "source": [
    "plt.scatter(Y1[:,0], Y1[:,1],s=3,c=\"r\")\n",
    "plt.scatter(Y2[:,0], Y2[:,1],s=3,c=\"b\")\n",
    "plt.grid(True)\n",
    "\n",
    "ax = plt.subplot(111)\n",
    "ax.spines[\"right\"].set_visible(False)\n",
    "ax.spines[\"top\"].set_visible(False)"
   ]
  },
  {
   "cell_type": "code",
   "execution_count": 4,
   "metadata": {},
   "outputs": [
    {
     "name": "stdout",
     "output_type": "stream",
     "text": [
      "(200, 2) (200,) (200, 2) (200,)\n"
     ]
    }
   ],
   "source": [
    "# Label data with +1 and -1 for each class\n",
    "labelPos = np.ones(NumDataPerClass)\n",
    "labelNeg = -1.0*np.ones(NumDataPerClass)\n",
    "f = np.concatenate((labelPos, labelNeg))\n",
    "\n",
    "# Generate random indices and order the data\n",
    "rIndex = np.random.permutation(2*NumDataPerClass)\n",
    "Yr = Y[rIndex,]\n",
    "fr = f[rIndex]\n",
    "\n",
    "# Training and test sets (50/50)\n",
    "Y_train = Yr[0:NumDataPerClass]\n",
    "f_train = fr[0:NumDataPerClass]\n",
    "Y_test  = Yr[NumDataPerClass:2*NumDataPerClass]\n",
    "f_test  = fr[NumDataPerClass:2*NumDataPerClass]\n",
    "\n",
    "print(Y_train.shape,f_train.shape,Y_test.shape,f_test.shape)\n",
    "\n",
    "Ntrain, Ntest = NumDataPerClass, NumDataPerClass"
   ]
  },
  {
   "cell_type": "code",
   "execution_count": 5,
   "metadata": {},
   "outputs": [
    {
     "name": "stdout",
     "output_type": "stream",
     "text": [
      "[ 0.69619139 -0.5213283 ]\n",
      "Percentage correct before training: 0.0\n",
      "Percentage correct after training:  100.0 100.0\n"
     ]
    }
   ],
   "source": [
    "# Random initialisation of weights\n",
    "#a= [-0.42118436, 0.61870777] # Gave 100%\n",
    "a = np.random.randn(2)\n",
    "print(a)\n",
    "\n",
    "# Check performance with initial random weights\n",
    "print(\"Percentage correct before training:\", PercentCorrect(Y_train,f_train,a))\n",
    "\n",
    "# Number of iterations & learning rate\n",
    "MaxIter = 400\n",
    "alpha   = 0.01\n",
    "\n",
    "# Space for plots\n",
    "P_train = np.zeros(MaxIter)\n",
    "P_test  = np.zeros(MaxIter)\n",
    "\n",
    "##### MAIN LOOP #####\n",
    "for iter in range(MaxIter):\n",
    "    # Select a random data point\n",
    "    r = np.floor(np.random.rand()*Ntrain).astype(int)\n",
    "    y = Y_train[r,:]\n",
    "    \n",
    "    # If misclassified, update weights\n",
    "    if (f_train[r] * np.dot(y,a) < 0):\n",
    "        a += alpha * f_train[r] * y\n",
    "        \n",
    "    # Evaluate trianing and test performances for plotting\n",
    "    P_train[iter] = PercentCorrect(Y_train,f_train,a)\n",
    "    P_test[iter]  = PercentCorrect(Y_test, f_test, a)\n",
    "\n",
    "print(\"Percentage correct after training: \", PercentCorrect(Y_train,f_train,a),PercentCorrect(Y_test,f_test,a))"
   ]
  },
  {
   "cell_type": "code",
   "execution_count": 10,
   "metadata": {},
   "outputs": [
    {
     "name": "stdout",
     "output_type": "stream",
     "text": [
      "[-0.08107826  0.10281878]\n"
     ]
    },
    {
     "name": "stderr",
     "output_type": "stream",
     "text": [
      "C:\\ProgramData\\Anaconda3\\lib\\site-packages\\ipykernel_launcher.py:8: MatplotlibDeprecationWarning: Adding an axes using the same arguments as a previous axes currently reuses the earlier instance.  In a future version, a new instance will always be created and returned.  Meanwhile, this warning can be suppressed, and the future behavior ensured, by passing a unique label to each axes instance.\n",
      "  \n"
     ]
    },
    {
     "data": {
      "image/png": "[encoded data removed]",
      "text/plain": [
       "<Figure size 432x288 with 1 Axes>"
      ]
     },
     "metadata": {
      "needs_background": "light"
     },
     "output_type": "display_data"
    }
   ],
   "source": [
    "plt.plot(range(MaxIter), P_train, \"b\", range(MaxIter),P_test,\"r\")\n",
    "plt.grid(True)\n",
    "plt.gca().legend((\"Training Set\",\"Test Set\"))\n",
    "plt.xlabel(\"Iterations\")\n",
    "plt.ylabel(\"Correct classifications (%)\")\n",
    "print(a)    \n",
    "\n",
    "ax = plt.subplot(111)\n",
    "ax.spines[\"right\"].set_visible(False)\n",
    "ax.spines[\"top\"].set_visible(False)\n",
    "\n",
    "#plt.savefig(\"lab2-prob1-training.svg\", format=\"svg\")"
   ]
  },
  {
   "cell_type": "code",
   "execution_count": 11,
   "metadata": {},
   "outputs": [
    {
     "name": "stderr",
     "output_type": "stream",
     "text": [
      "C:\\ProgramData\\Anaconda3\\lib\\site-packages\\ipykernel_launcher.py:8: MatplotlibDeprecationWarning: Adding an axes using the same arguments as a previous axes currently reuses the earlier instance.  In a future version, a new instance will always be created and returned.  Meanwhile, this warning can be suppressed, and the future behavior ensured, by passing a unique label to each axes instance.\n",
      "  \n"
     ]
    },
    {
     "data": {
      "image/png": "[encoded data removed]",
      "text/plain": [
       "<Figure size 432x288 with 1 Axes>"
      ]
     },
     "metadata": {
      "needs_background": "light"
     },
     "output_type": "display_data"
    }
   ],
   "source": [
    "plt.scatter(Y1[:,0], Y1[:,1],s=3,c=\"r\")\n",
    "plt.scatter(Y2[:,0], Y2[:,1],s=3,c=\"b\")\n",
    "plt.grid(True)\n",
    "\n",
    "x=np.linspace(-4,10)\n",
    "plt.plot(x, -a[0]*x/a[1],c=\"g\") # Plot the separating line #x*a0+y*a1=0\n",
    "\n",
    "ax = plt.subplot(111)\n",
    "ax.spines[\"right\"].set_visible(False)\n",
    "ax.spines[\"top\"].set_visible(False)\n",
    "\n",
    "#plt.savefig(\"lab2-prob1-separation.svg\", format=\"svg\")"
   ]
  },
  {
   "cell_type": "code",
   "execution_count": 8,
   "metadata": {},
   "outputs": [
    {
     "name": "stdout",
     "output_type": "stream",
     "text": [
      "1.0\n"
     ]
    }
   ],
   "source": [
    "model = Perceptron()\n",
    "model.fit(Y_train,f_train)\n",
    "fh_train = model.predict(Y_train)\n",
    "print(accuracy_score(fh_train,f_train))"
   ]
  },
  {
   "cell_type": "code",
   "execution_count": 9,
   "metadata": {},
   "outputs": [
    {
     "data": {
      "text/plain": [
       "'O = np.ones((2*NumDataPerClass,1))\\nY = np.append(Y,O,axis=1)\\n\\na = np.random.randn(3)'"
      ]
     },
     "execution_count": 9,
     "metadata": {},
     "output_type": "execute_result"
    }
   ],
   "source": [
    "'''O = np.ones((2*NumDataPerClass,1))\n",
    "Y = np.append(Y,O,axis=1)\n",
    "\n",
    "a = np.random.randn(3)'''"
   ]
  },
  {
   "cell_type": "code",
   "execution_count": null,
   "metadata": {},
   "outputs": [],
   "source": []
  }
 ],
 "metadata": {
  "kernelspec": {
   "display_name": "Python 3",
   "language": "python",
   "name": "python3"
  },
  "language_info": {
   "codemirror_mode": {
    "name": "ipython",
    "version": 3
   },
   "file_extension": ".py",
   "mimetype": "text/x-python",
   "name": "python",
   "nbconvert_exporter": "python",
   "pygments_lexer": "ipython3",
   "version": "3.7.1"
  }
 },
 "nbformat": 4,
 "nbformat_minor": 2
}
